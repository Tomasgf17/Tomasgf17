{
 "cells": [
  {
   "cell_type": "markdown",
   "id": "d77b5723",
   "metadata": {},
   "source": [
    "**Cree las siguientes funciones, con su debida documentación:**\n",
    "\n",
    "1. Cree una función que regrese como resultado el nombre de un restaurante y su NIT en una cadena de caracteres, pueden ser ficticios.\n",
    "2. Si en dicho restaurante cada persona consume en promedio , haga una función que permira calcular el valor de la cuenta, en promedio, dado el número de comensales.\n",
    "3. En el total calculado en el punto anterior se incluye el impuesto al consumo, cree una función que le permita conocer el valor que debería pagar sin dicho impuesto el cual asciende al $8\\%$.\n",
    "4. Una función que tenga como argumentos de entrada nombre de una persona y cantidad de comensales, la función debe tener como respuesta un \"recibo\" en el que aparezca el nombre del restaurante, su NIT, el nombre del cliente, el valor de la factura sin impuestos y con impuestos (sug: emplee como base las funciones creadas anteriormente).\n",
    "5. Una función que permita calcular el máximo entre dos números.\n",
    "6. Una función que ordene de menor a mayor tres números.\n",
    "7. Una función que dadas 5 notas de un estudiante, le permitan calcular la definitiva de la materia (nota 1: 10%, nota 2: 20%, nota 3: 30%, nota 4: 15%, nota 5: 25%) junto a un mensaje el cual resuma el desempeño del estudiante en el curso. (*Sug*: utilice los intervalos $0\\leq x<1,\\ 1\\leq x<2,\\ 2\\leq x<3,\\ 3\\leq x<4, 4\\leq x<4.5,\\ 4.5\\leq x\\leq5 $)"
   ]
  },
  {
   "cell_type": "code",
   "execution_count": 15,
   "id": "e8e73247",
   "metadata": {},
   "outputs": [],
   "source": [
    "#punto 1,2,3\n",
    "def RESTAURANTE () :\n",
    "    print ('RESTAURANTE LO MEJOR')\n",
    "    print('NIT:23456543889')\n",
    "    n = int (input('Escriba el numero de comensales: '))\n",
    "    valor = (n*50000)\n",
    "    print(valor)\n",
    "    return valor\n",
    "def RESTAURANTE2() :\n",
    "    m = (100/108)*RESTAURANTE ()\n",
    "    print(m)"
   ]
  },
  {
   "cell_type": "code",
   "execution_count": 16,
   "id": "f59c5327",
   "metadata": {},
   "outputs": [
    {
     "name": "stdout",
     "output_type": "stream",
     "text": [
      "RESTAURANTE LO MEJOR\n",
      "NIT:23456543889\n",
      "Escriba el numero de comensales: 66\n",
      "3300000\n",
      "3055555.5555555555\n"
     ]
    }
   ],
   "source": [
    "RESTAURANTE2()"
   ]
  },
  {
   "cell_type": "code",
   "execution_count": 17,
   "id": "0608ba8c",
   "metadata": {},
   "outputs": [],
   "source": [
    "#punto 4\n",
    "def RECIBO():\n",
    "        print('RECIBO DE PAGO')\n",
    "        print('RESTAURANTE LO MEJOR , NIT:23456543889')\n",
    "        print('El valor de la factura es: {} '.format(m))"
   ]
  },
  {
   "cell_type": "code",
   "execution_count": 18,
   "id": "29de1e52",
   "metadata": {},
   "outputs": [
    {
     "name": "stdout",
     "output_type": "stream",
     "text": [
      "RECIBO DE PAGO\n",
      "RESTAURANTE LO MEJOR , NIT:23456543889\n",
      "El valor de la factura es: None \n"
     ]
    }
   ],
   "source": [
    "RECIBO()"
   ]
  },
  {
   "cell_type": "code",
   "execution_count": 23,
   "id": "d1dd750c",
   "metadata": {},
   "outputs": [],
   "source": [
    "#punto 5\n",
    "def maximo(num1,num2):\n",
    "    if num1>num2:\n",
    "        return num1\n",
    "    else:\n",
    "        return num2"
   ]
  },
  {
   "cell_type": "code",
   "execution_count": 24,
   "id": "b67e14df",
   "metadata": {},
   "outputs": [
    {
     "data": {
      "text/plain": [
       "33000"
      ]
     },
     "execution_count": 24,
     "metadata": {},
     "output_type": "execute_result"
    }
   ],
   "source": [
    "maximo(33000,1)"
   ]
  },
  {
   "cell_type": "code",
   "execution_count": 27,
   "id": "aa09598b",
   "metadata": {},
   "outputs": [],
   "source": [
    "#punto 6\n",
    "def menor(n1,n2,n3):\n",
    "    if n1<n2:\n",
    "        if n1<n3:\n",
    "            if n2<n3:\n",
    "                return n1,n2,n3\n",
    "            else:\n",
    "                return n1,n3,n2\n",
    "    else:\n",
    "        if n2<n3:   \n",
    "            if n1<n3:\n",
    "                return n2, n1, n3\n",
    "            else:\n",
    "                return n2, n3, n1"
   ]
  },
  {
   "cell_type": "code",
   "execution_count": 28,
   "id": "82ab9a85",
   "metadata": {},
   "outputs": [
    {
     "data": {
      "text/plain": [
       "(0, 90, 600)"
      ]
     },
     "execution_count": 28,
     "metadata": {},
     "output_type": "execute_result"
    }
   ],
   "source": [
    "menor(90,0,600)"
   ]
  },
  {
   "cell_type": "code",
   "execution_count": 45,
   "id": "73115bf7",
   "metadata": {},
   "outputs": [],
   "source": [
    "#punto 7\n",
    "def definitiva(not1,not2,not3,not4,not5):\n",
    "    nota1 = not1*0.10\n",
    "    nota2 = not2*0.20\n",
    "    nota3 = not3*0.30\n",
    "    nota4 = not4*0.15\n",
    "    nota5 = not5*0.25\n",
    "    d = nota1+nota2+nota3+nota4+nota5\n",
    "    if d>=0 and d<1:\n",
    "        desempeño = ('Definitiva de:', d,'Muy Malo Desempeño')\n",
    "    elif d>=1 and d<2:\n",
    "        desempeño = ('Definitiva de:', d,'Mal desempeño')\n",
    "    elif d>=2 and d<3:\n",
    "        desempeño = ('Definitiva de:', d,'Desempeño Medio')\n",
    "    elif d>=3 and d<4:\n",
    "        desempeño = ('Definitiva de:', d,'Desempeño Basico ')\n",
    "    elif d>=4 and d<4.5:\n",
    "        desempeño = ('Definitiva de:', d,'Desempeño Sobresaliente')\n",
    "    elif d>=4.5 and d>=5:\n",
    "        desempeño = ('Definitiva de:', d,'Desempeño Excelente')\n",
    "    return desempeño"
   ]
  },
  {
   "cell_type": "code",
   "execution_count": 46,
   "id": "9eb23ac6",
   "metadata": {},
   "outputs": [
    {
     "data": {
      "text/plain": [
       "('Definitiva de:', 5.0, 'Desempeño Excelente')"
      ]
     },
     "execution_count": 46,
     "metadata": {},
     "output_type": "execute_result"
    }
   ],
   "source": [
    "definitiva(5,5,5,5,5)"
   ]
  },
  {
   "cell_type": "code",
   "execution_count": null,
   "id": "66a3dbe0",
   "metadata": {},
   "outputs": [],
   "source": []
  }
 ],
 "metadata": {
  "kernelspec": {
   "display_name": "Python 3 (ipykernel)",
   "language": "python",
   "name": "python3"
  },
  "language_info": {
   "codemirror_mode": {
    "name": "ipython",
    "version": 3
   },
   "file_extension": ".py",
   "mimetype": "text/x-python",
   "name": "python",
   "nbconvert_exporter": "python",
   "pygments_lexer": "ipython3",
   "version": "3.9.7"
  }
 },
 "nbformat": 4,
 "nbformat_minor": 5
}
