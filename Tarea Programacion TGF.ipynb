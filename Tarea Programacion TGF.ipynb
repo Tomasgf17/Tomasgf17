{
 "cells": [
  {
   "cell_type": "code",
   "execution_count": 27,
   "id": "ed7f2263",
   "metadata": {},
   "outputs": [],
   "source": [
    "''' división: función que divide dos fracciones, multiplicando numerador de la primera con denominador de la segunda y visceversa para luego dividir. \n",
    "Tiene como parametros el numerador y denominador de cada fracción'''\n",
    "\n",
    "def división(n1,d1,n2,d2):\n",
    "    \n",
    "    razón = (n1*d2)/(n2*d1)\n",
    "    div_n = n1*d2\n",
    "    div_d = n2*d1\n",
    "    return simp(div_n, div_d) + \" = \" + str(razón)"
   ]
  },
  {
   "cell_type": "code",
   "execution_count": 28,
   "id": "734212af",
   "metadata": {},
   "outputs": [
    {
     "data": {
      "text/plain": [
       "'16/7 = 2.2857142857142856'"
      ]
     },
     "execution_count": 28,
     "metadata": {},
     "output_type": "execute_result"
    }
   ],
   "source": [
    "división(8,2,7,4)"
   ]
  },
  {
   "cell_type": "code",
   "execution_count": 29,
   "id": "6a7ef5ba",
   "metadata": {},
   "outputs": [
    {
     "data": {
      "text/plain": [
       "6"
      ]
     },
     "execution_count": 29,
     "metadata": {},
     "output_type": "execute_result"
    }
   ],
   "source": [
    "''' MCD: Función que calcula el Máximo Común Divisior entre dos números x, y '''\n",
    "def MCD(x,y):\n",
    "    mcd = int\n",
    "    if x > y:\n",
    "        menor = y\n",
    "    else: \n",
    "        menor = x\n",
    "    for i in range(1, menor+1):\n",
    "        if((x%i == 0) and (y%i == 0)):\n",
    "            mcd = i\n",
    "    return mcd\n",
    "MCD(30,36)\n",
    "6"
   ]
  },
  {
   "cell_type": "code",
   "execution_count": 30,
   "id": "b90fd55c",
   "metadata": {},
   "outputs": [
    {
     "name": "stdout",
     "output_type": "stream",
     "text": [
      "8/13\n",
      "2\n"
     ]
    }
   ],
   "source": [
    "''' simp: función que simplifica una fracción hasta sus factores máximos siguiendo su MCD'''\n",
    "def simp(a,b):\n",
    "    c = MCD(a,b)\n",
    "    g = str(int(a/c))\n",
    "    h = str(int(b/c))\n",
    "    \n",
    "    if h == '1':\n",
    "        return ('{0}'.format(g))\n",
    "    \n",
    "    return ('{0}/{1}'.format(g,h))\n",
    "print(simp(16,26))\n",
    "print(simp(20,10))"
   ]
  },
  {
   "cell_type": "code",
   "execution_count": 31,
   "id": "db88f41f",
   "metadata": {},
   "outputs": [],
   "source": [
    "''' multiplicación: función que multiplica dos fracciones de manera directa, sus parametros son el numerador y denominador de cada fracción'''\n",
    "def multiplicación(n1,d1,n2,d2):\n",
    "    \n",
    "    \n",
    "    producto = (n1*n2)/(d1*d2)\n",
    "    mulp_n = (n1*n2)\n",
    "    mulp_d = (d1*d2)\n",
    "    return simp(mulp_n, mulp_d) + \" = \" + str(producto)"
   ]
  },
  {
   "cell_type": "code",
   "execution_count": 32,
   "id": "ba852868",
   "metadata": {},
   "outputs": [
    {
     "data": {
      "text/plain": [
       "'1 = 1.0'"
      ]
     },
     "execution_count": 32,
     "metadata": {},
     "output_type": "execute_result"
    }
   ],
   "source": [
    "multiplicación(4,2,1,2)"
   ]
  },
  {
   "cell_type": "code",
   "execution_count": 33,
   "id": "1443d31d",
   "metadata": {},
   "outputs": [],
   "source": [
    "''' SUMA: función que realiza la suma entre dos fracciones teniendo como parametros el numerador y denominador de cada fracción'''\n",
    "def suma(n1, d1, n2, d2):\n",
    "    adición = ((n1*d2) + (d1*n2))/(d1*d2)\n",
    "    suma_n = ((n1*d2) + (d1*n2))\n",
    "    suma_d = (d1*d2)\n",
    "    return simp(suma_n, suma_d) + \" = \" + str(adición)"
   ]
  },
  {
   "cell_type": "code",
   "execution_count": 34,
   "id": "54355437",
   "metadata": {},
   "outputs": [
    {
     "data": {
      "text/plain": [
       "'19/6 = 3.1666666666666665'"
      ]
     },
     "execution_count": 34,
     "metadata": {},
     "output_type": "execute_result"
    }
   ],
   "source": [
    "suma(8,3,1,2)"
   ]
  },
  {
   "cell_type": "code",
   "execution_count": 35,
   "id": "2626ffe2",
   "metadata": {},
   "outputs": [],
   "source": [
    "''' RESTA: función que realiza la resta entre dos fracciones teniendo como parametros el numerador y denominador de cada fracción'''\n",
    "def resta(n1, d1, n2, d2):\n",
    "    sustracción = ((n1*d2) - (d1*n2))/(d1*d2)\n",
    "    resta_n = abs(((n1*d2) - (d1*n2)))\n",
    "    resta_d = (d1*d2)\n",
    "    \n",
    "    return simp(resta_n, resta_d) + \" = \" + str(sustracción)"
   ]
  },
  {
   "cell_type": "code",
   "execution_count": 36,
   "id": "b8e08370",
   "metadata": {},
   "outputs": [
    {
     "data": {
      "text/plain": [
       "'11/4 = -2.75'"
      ]
     },
     "execution_count": 36,
     "metadata": {},
     "output_type": "execute_result"
    }
   ],
   "source": [
    "resta(5,4,8,2)"
   ]
  },
  {
   "cell_type": "code",
   "execution_count": null,
   "id": "d2ac0594",
   "metadata": {},
   "outputs": [],
   "source": []
  }
 ],
 "metadata": {
  "kernelspec": {
   "display_name": "Python 3 (ipykernel)",
   "language": "python",
   "name": "python3"
  },
  "language_info": {
   "codemirror_mode": {
    "name": "ipython",
    "version": 3
   },
   "file_extension": ".py",
   "mimetype": "text/x-python",
   "name": "python",
   "nbconvert_exporter": "python",
   "pygments_lexer": "ipython3",
   "version": "3.9.7"
  }
 },
 "nbformat": 4,
 "nbformat_minor": 5
}
